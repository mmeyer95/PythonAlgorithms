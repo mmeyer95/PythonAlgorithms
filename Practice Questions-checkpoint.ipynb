{
 "cells": [
  {
   "cell_type": "markdown",
   "metadata": {},
   "source": [
    "# Section 1: Arrays and Strings"
   ]
  },
  {
   "cell_type": "markdown",
   "metadata": {},
   "source": [
    "### 1.1 Is Unique \n",
    "##### Implement an algorithm to determine if a string has all unique characters. What if you cannot use additional data structures?"
   ]
  },
  {
   "cell_type": "code",
   "execution_count": 30,
   "metadata": {},
   "outputs": [],
   "source": [
    "def isUnique(string):  \n",
    "    for i in range(0,len(string)):  \n",
    "        for j in range (i+1,len(string)):  \n",
    "            if string[i].upper()==string[j].upper():  \n",
    "                return False  \n",
    "    return True\n"
   ]
  },
  {
   "cell_type": "code",
   "execution_count": 31,
   "metadata": {},
   "outputs": [
    {
     "name": "stdout",
     "output_type": "stream",
     "text": [
      "False\n",
      "True\n",
      "False\n",
      "False\n"
     ]
    }
   ],
   "source": [
    "string=\"hello\"\n",
    "print(isUnique(string))\n",
    "string=\"hi\"\n",
    "print(isUnique(string))\n",
    "string=\"Meredith\"\n",
    "print(isUnique(string))\n",
    "string=\"MEredith\"\n",
    "print(isUnique(string))"
   ]
  },
  {
   "cell_type": "markdown",
   "metadata": {},
   "source": [
    "### 1.2 Check Purmutation\n",
    "##### Given two strings, write a method to decide if one is a permutation of the other."
   ]
  },
  {
   "cell_type": "code",
   "execution_count": 32,
   "metadata": {},
   "outputs": [],
   "source": [
    "def isPerm(string_a, string_b):\n",
    "    lettersa=[]\n",
    "    lettersb=[]\n",
    "    if len(string_a)!=len(string_b):\n",
    "        return False\n",
    "    for i in range(0,len(string_a)):\n",
    "        lettersa.append(0)\n",
    "        lettersb.append(0)\n",
    "    for i in range(0,len(string_a)):\n",
    "        for j in range(len(string_b)):\n",
    "            if lettersb[j]==1:\n",
    "                continue\n",
    "            if string_a[i]==string_b[j]:\n",
    "                lettersb[j]=1\n",
    "                lettersa[i]=1\n",
    "            elif j==len(string_b)-1:\n",
    "                return False\n",
    "    return True\n"
   ]
  },
  {
   "cell_type": "code",
   "execution_count": 33,
   "metadata": {},
   "outputs": [
    {
     "name": "stdout",
     "output_type": "stream",
     "text": [
      "False\n",
      "False\n"
     ]
    }
   ],
   "source": [
    "string_a=\"hello\"\n",
    "string_b=\"oelhl\"\n",
    "print(isPerm(string_a,string_b))\n",
    "\n",
    "string_a=\"permutation\"\n",
    "string_b=\"pernutation\"\n",
    "print(isPerm(string_a,string_b))"
   ]
  },
  {
   "cell_type": "markdown",
   "metadata": {},
   "source": [
    "### 1.3 URLify\n",
    "##### Write a method to replace all spaces in a string with \"%20\". You may assume that the string has sufficient space at the end to hold the additional characters, and that you are given the \"true\" length of the string."
   ]
  },
  {
   "cell_type": "code",
   "execution_count": 34,
   "metadata": {},
   "outputs": [],
   "source": [
    "def URL(string):\n",
    "    for i in range(len(string)):\n",
    "        if string[i]==\" \":\n",
    "            string=string[0:i]+\"%20\"+string[i+1:len(string)]   \n",
    "    return string"
   ]
  },
  {
   "cell_type": "code",
   "execution_count": 35,
   "metadata": {},
   "outputs": [
    {
     "name": "stdout",
     "output_type": "stream",
     "text": [
      "Hello%20my%20name%20is%20Meredith\n"
     ]
    }
   ],
   "source": [
    "string= \"Hello my name is Meredith\"\n",
    "print(URL(string))"
   ]
  },
  {
   "cell_type": "markdown",
   "metadata": {},
   "source": [
    "### 1.4 Palindrome Permutation\n",
    "##### Given a string, write a function to check if it is a permutation of a palindrome"
   ]
  },
  {
   "cell_type": "code",
   "execution_count": 36,
   "metadata": {},
   "outputs": [],
   "source": [
    "def palindrome(string):\n",
    "    f=0 #flag\n",
    "    odd=len(string)%2 #is the word an odd # of letters long?\n",
    "    #print(odd)\n",
    "    checked=[] \n",
    "    for i in range(len(string)):\n",
    "        checked.append(0)\n",
    "    for i in range(len(string)):\n",
    "        c=0 #counter for occurence of letter\n",
    "        for j in range(i+1, len(string)):\n",
    "            if checked[i]==0 and checked[j]==0:\n",
    "                if string[i]==string[j]:\n",
    "                    c+=1\n",
    "                    checked[j]=1\n",
    "        if c==0 and checked[i]==0:\n",
    "            if f==0 and odd==1:\n",
    "                f=1 #set flag for 1 odd ball\n",
    "            else:\n",
    "                return False\n",
    "        checked[i]=1\n",
    "    return True                    \n",
    "        "
   ]
  },
  {
   "cell_type": "code",
   "execution_count": 37,
   "metadata": {},
   "outputs": [
    {
     "name": "stdout",
     "output_type": "stream",
     "text": [
      "True\n",
      "True\n",
      "False\n"
     ]
    }
   ],
   "source": [
    "string=\"racecar\"\n",
    "print(palindrome(string))\n",
    "string=\"tacocat\"\n",
    "print(palindrome(string))\n",
    "string=\"not a palindrome\"\n",
    "print(palindrome(string))"
   ]
  },
  {
   "cell_type": "markdown",
   "metadata": {},
   "source": [
    "### 1.5 One Away\n",
    "##### There are three types of edits that can be performed on strings: insert a character, remove a character, or replace a character. Given two strings, write a function to check if they are one edit (or zero edits) away."
   ]
  },
  {
   "cell_type": "code",
   "execution_count": 38,
   "metadata": {},
   "outputs": [],
   "source": [
    "def oneEdit(string_a,string_b):\n",
    "    f=0\n",
    "    a_offset=0\n",
    "    b_offset=0\n",
    "    AR=len(string_a)%len(string_b)\n",
    "    max_length=max(len(string_a),len(string_b))\n",
    "    for i in range(max_length):\n",
    "        if i<len(string_a) and i<len(string_b):\n",
    "            if string_a[i+a_offset]!=string_b[i+b_offset]:\n",
    "                if f==0:\n",
    "                    f=1\n",
    "                    if AR==0:\n",
    "                        continue\n",
    "                    else:\n",
    "                        if string_a[i+1]==string_b[i]:\n",
    "                            a_offset=1\n",
    "                        elif string_a[i]==string_b[i+1]:\n",
    "                            b_offset=1\n",
    "                elif f==1:\n",
    "                    return False\n",
    "        elif a_offset==b_offset==0:\n",
    "            if f!=0:\n",
    "                return False \n",
    "    return True\n",
    "                "
   ]
  },
  {
   "cell_type": "code",
   "execution_count": 39,
   "metadata": {},
   "outputs": [
    {
     "name": "stdout",
     "output_type": "stream",
     "text": [
      "True\n",
      "True\n",
      "True\n",
      "False\n"
     ]
    }
   ],
   "source": [
    "string_a=\"hello\"\n",
    "string_b=\"Hello\"\n",
    "print(oneEdit(string_a,string_b))\n",
    "string_a=\"hello\"\n",
    "string_b=\"ello\"\n",
    "print(oneEdit(string_a,string_b))\n",
    "string_a=\"ello\"\n",
    "string_b=\"hello\"\n",
    "print(oneEdit(string_a,string_b))\n",
    "string_a=\"hello\"\n",
    "string_b=\"Helloo\"\n",
    "print(oneEdit(string_a,string_b))"
   ]
  },
  {
   "cell_type": "markdown",
   "metadata": {},
   "source": [
    "### 1.6 String Compression\n",
    "##### Implement a method to perform basic string compression using the countrs of repeated characters. For example, aabcccccaaa would be a2b1c5a3. If the \"compressed\" string would not become smaller than the original string, your method should return the original string. You can assume the string only has uppercase and lowercase letters."
   ]
  },
  {
   "cell_type": "code",
   "execution_count": 40,
   "metadata": {},
   "outputs": [],
   "source": [
    "def compression(string):\n",
    "    new_string=\"\"\n",
    "    c=1 #counter\n",
    "    i=0 #pointer 1\n",
    "    while i+c<len(string):\n",
    "        if string[i]==string[i+c]:\n",
    "            c+=1\n",
    "        else:\n",
    "            new_string+=string[i]+str(c)\n",
    "            i=i+c\n",
    "            c=1\n",
    "    new_string+=string[i]+str(c)\n",
    "    if len(string)<len(new_string):\n",
    "        return string\n",
    "    else:\n",
    "        return new_string"
   ]
  },
  {
   "cell_type": "code",
   "execution_count": 41,
   "metadata": {},
   "outputs": [
    {
     "name": "stdout",
     "output_type": "stream",
     "text": [
      "a2b1c5a3\n",
      "hello\n",
      "h1e1l3o4\n"
     ]
    }
   ],
   "source": [
    "string=\"aabcccccaaa\"\n",
    "print(compression(string))\n",
    "string=\"hello\"\n",
    "print(compression(string))\n",
    "string=\"hellloooo\"\n",
    "print(compression(string))"
   ]
  },
  {
   "cell_type": "markdown",
   "metadata": {},
   "source": [
    "### 1.7 Rotate Matrix\n",
    "##### Given an image represented by an NxN matrix, where each pixel in the image is 4 bytes, write a method to rotate the image by 90 degrees. Can you do this in place?"
   ]
  },
  {
   "cell_type": "code",
   "execution_count": 42,
   "metadata": {},
   "outputs": [],
   "source": [
    "import numpy as np\n",
    "from scipy import linalg\n",
    "\n",
    "def rotateImg(image):\n",
    "    n=len(image[0])\n",
    "    temp=np.zeros(n)\n",
    "    for i in range(int(n/2)):\n",
    "        for j in range(n):\n",
    "            temp[j]=image[i][j]\n",
    "        image[i]=image[n-1-i]\n",
    "        image[n-1-i]=temp\n",
    "    image=image.transpose()\n",
    "    return image\n",
    "            "
   ]
  },
  {
   "cell_type": "code",
   "execution_count": 43,
   "metadata": {},
   "outputs": [
    {
     "name": "stdout",
     "output_type": "stream",
     "text": [
      "[[13  9  5  1]\n",
      " [14 10  6  2]\n",
      " [15 11  7  3]\n",
      " [16 12  8  4]]\n"
     ]
    }
   ],
   "source": [
    "image=np.array([[1,2,3,4],[5,6,7,8],[9,10,11,12],[13,14,15,16]])\n",
    "print(rotateImg(image))"
   ]
  },
  {
   "cell_type": "markdown",
   "metadata": {},
   "source": [
    "### 1.8 Zero Matrix \n",
    "##### Write an algorithm such that if an element in an MxN matrix is 0, its column and row are set to 0."
   ]
  },
  {
   "cell_type": "code",
   "execution_count": 44,
   "metadata": {},
   "outputs": [],
   "source": [
    "def turnZero(array):\n",
    "    m=len(array)\n",
    "    n=len(array[0])\n",
    "    zero_rows=np.zeros(n)\n",
    "    zero_cols=np.zeros(m)\n",
    "    for i in range(m):\n",
    "        for j in range(n):\n",
    "            if array[i][j]==0:\n",
    "                zero_rows[j]=1\n",
    "                zero_cols[i]=1\n",
    "    for i in range(m):\n",
    "        for j in range(n):\n",
    "                if zero_cols[i]==1 or zero_rows[j]==1:\n",
    "                    array[i][j]=0\n",
    "    return array            \n",
    "            "
   ]
  },
  {
   "cell_type": "code",
   "execution_count": 45,
   "metadata": {},
   "outputs": [
    {
     "name": "stdout",
     "output_type": "stream",
     "text": [
      "[[1, 2], [3, 4]]\n",
      "[[0, 0, 0], [0, 0, 0], [5, 0, 0]]\n"
     ]
    }
   ],
   "source": [
    "array = [[1,2],[3,4]]\n",
    "print(turnZero(array))\n",
    "\n",
    "array2 = [[1,0,4],[5,2,0],[5,10,9]]\n",
    "print(turnZero(array2))"
   ]
  },
  {
   "cell_type": "markdown",
   "metadata": {},
   "source": [
    "### 1.9 String Rotation\n",
    "##### Assume you have a method isSubstring which checks if one word is a substring of another. Given two strings, s1 and s2, write code to check if s2 is a rotation of s1 using only one call to isSubstring (e.g. \"waterbottle\" is a rotation of \"erbottlewat\")."
   ]
  },
  {
   "cell_type": "code",
   "execution_count": 46,
   "metadata": {},
   "outputs": [],
   "source": [
    "def isRotation(s1,s2):\n",
    "    start_s2=-1\n",
    "    if len(s1)!=len(s2):\n",
    "        return False\n",
    "    for i in range(len(s2)):\n",
    "        if s2[i]==s1[0]:\n",
    "            start_s2=i\n",
    "            break\n",
    "        elif i==len(s2)-1:\n",
    "            return False\n",
    "    for j in range(1,len(s1)):\n",
    "        if start_s2+j==len(s2):\n",
    "            start_s2-=start_s2+j\n",
    "        if s1[j]!=s2[start_s2+j]:\n",
    "            return False\n",
    "    return True"
   ]
  },
  {
   "cell_type": "code",
   "execution_count": 47,
   "metadata": {},
   "outputs": [
    {
     "name": "stdout",
     "output_type": "stream",
     "text": [
      "True\n",
      "True\n",
      "True\n",
      "False\n"
     ]
    }
   ],
   "source": [
    "s1=\"waterbottle\"\n",
    "s2=\"erbottlewat\"\n",
    "print(isRotation(s1,s2))\n",
    "print(isRotation(s2,s1))\n",
    "s1=\"Meredith\"\n",
    "s2=\"dithMere\"\n",
    "print(isRotation(s1,s2))\n",
    "s1=\"waterbottle\"\n",
    "s2=\"elbottlewat\"\n",
    "print(isRotation(s1,s2))"
   ]
  },
  {
   "cell_type": "markdown",
   "metadata": {},
   "source": [
    "# Section 2: Linked Lists"
   ]
  },
  {
   "cell_type": "code",
   "execution_count": 48,
   "metadata": {},
   "outputs": [],
   "source": [
    "class Element(object):\n",
    "    def __init__(self,value):\n",
    "        self.value = value\n",
    "        self.next = None\n",
    "\n",
    "class linkedList(object):\n",
    "    def __init__(self,head=None):\n",
    "        self.head=head\n",
    "    \n",
    "    def append(self, new_element):\n",
    "            current = self.head\n",
    "            if self.head:\n",
    "                while current.next:\n",
    "                    current = current.next\n",
    "                current.next = new_element\n",
    "            else:\n",
    "                self.head = new_element\n",
    "\n",
    "    def get_position(self, position):\n",
    "        #Get the value at the current position\n",
    "        i=1\n",
    "        current = self.head\n",
    "        while current.next and i<position:\n",
    "            current = current.next\n",
    "            i+=1\n",
    "        if i==position:\n",
    "            return current\n",
    "            #else:\n",
    "             #   return None\n",
    "\n",
    "    def insert(self, new_element, position):\n",
    "        #Inserts a new node at the given position.\n",
    "        #Assumes the first position[head] is \"1\".\"\"\"\n",
    "        i=1\n",
    "        current = self.head\n",
    "        while i<(position-1):\n",
    "            current = current.next\n",
    "            i+=1\n",
    "        if current.next:\n",
    "            new_element.next = current.next  #new element points ahead if there is an element\n",
    "        current.next = new_element #node before points to new element\n",
    "        pass\n",
    "\n",
    "\n",
    "    def delete(self, value):\n",
    "        #Deletes the first node with a given value.\n",
    "        current = self.head\n",
    "        if current.value == value:\n",
    "            self.head = current.next\n",
    "        else:\n",
    "            while current.next.value!=value:\n",
    "                current = current.next\n",
    "            current.next = current.next.next\n",
    "        pass\n",
    "    \n",
    "    def printList(self):\n",
    "        current=self.head\n",
    "        print(current.value)\n",
    "        while current.next:\n",
    "            print(current.next.value)\n",
    "            current=current.next\n",
    "        pass\n",
    "    "
   ]
  },
  {
   "cell_type": "markdown",
   "metadata": {
    "collapsed": true
   },
   "source": [
    "### 2.1 Remove Dups\n",
    "##### Write code to remove duplicates from an unsorted linked list\n",
    "###### How would you solve this problem if a temporary buffer is not allowed?"
   ]
  },
  {
   "cell_type": "code",
   "execution_count": 49,
   "metadata": {},
   "outputs": [],
   "source": [
    "def removeDups(ll):\n",
    "    current=ll.head\n",
    "    values=[]\n",
    "    while current.next:\n",
    "        values.append(current.value)\n",
    "        for i in range(len(values)):\n",
    "            if current.next.value==values[i]:\n",
    "                if current.next.next:\n",
    "                    current.next=current.next.next\n",
    "                else:\n",
    "                    current.next=None\n",
    "                break\n",
    "        current=current.next\n",
    "    pass\n",
    "        "
   ]
  },
  {
   "cell_type": "code",
   "execution_count": 50,
   "metadata": {},
   "outputs": [
    {
     "name": "stdout",
     "output_type": "stream",
     "text": [
      "5\n",
      "1\n",
      "2\n",
      "3\n",
      "4\n",
      "6\n"
     ]
    }
   ],
   "source": [
    "ll=linkedList()\n",
    "e=Element(5)\n",
    "ll.append(e)\n",
    "e=Element(5)\n",
    "ll.append(e)\n",
    "e=Element(1)\n",
    "ll.append(e)\n",
    "e=Element(2)\n",
    "ll.append(e)\n",
    "e=Element(3)\n",
    "ll.append(e)\n",
    "e=Element(4)\n",
    "ll.append(e)\n",
    "e=Element(2)\n",
    "ll.append(e)\n",
    "e=Element(6)\n",
    "ll.append(e)\n",
    "\n",
    "removeDups(ll)\n",
    "ll.printList()"
   ]
  },
  {
   "cell_type": "markdown",
   "metadata": {},
   "source": [
    "### 2.2 Return Kth to Last\n",
    "##### Implement an algorithm to remove te kth to last element of a singly linked list."
   ]
  },
  {
   "cell_type": "code",
   "execution_count": 51,
   "metadata": {},
   "outputs": [],
   "source": [
    "def removeK(ll,k):\n",
    "    current=ll.head\n",
    "    c=1 #count of elements\n",
    "    while current.next:\n",
    "        c+=1\n",
    "        current=current.next\n",
    "    current=ll.head\n",
    "    if c-k-1>0:\n",
    "        for i in range(c-k-1):\n",
    "            current=current.next\n",
    "        current.next=current.next.next\n",
    "    pass\n",
    "    "
   ]
  },
  {
   "cell_type": "code",
   "execution_count": 52,
   "metadata": {},
   "outputs": [
    {
     "name": "stdout",
     "output_type": "stream",
     "text": [
      "5\n",
      "5\n",
      "1\n",
      "2\n",
      "3\n",
      "2\n",
      "6\n"
     ]
    }
   ],
   "source": [
    "ll=linkedList()\n",
    "e=Element(5)\n",
    "ll.append(e)\n",
    "e=Element(5)\n",
    "ll.append(e)\n",
    "e=Element(1)\n",
    "ll.append(e)\n",
    "e=Element(2)\n",
    "ll.append(e)\n",
    "e=Element(3)\n",
    "ll.append(e)\n",
    "e=Element(4)\n",
    "ll.append(e)\n",
    "e=Element(2)\n",
    "ll.append(e)\n",
    "e=Element(6)\n",
    "ll.append(e)\n",
    "\n",
    "removeK(ll,3)\n",
    "ll.printList()"
   ]
  },
  {
   "cell_type": "markdown",
   "metadata": {},
   "source": [
    "### 2.3 Delete Middle Node\n",
    "##### Implement an algorithm to delete a node in the middle (i.e. any node but the first and last node, not necessarily the exact middle) of a single linked list, given only access to that node."
   ]
  },
  {
   "cell_type": "code",
   "execution_count": 53,
   "metadata": {},
   "outputs": [],
   "source": [
    "def removeMiddle(node):\n",
    "    node.value = node.next.value\n",
    "    node.next = node.next.next\n",
    "    "
   ]
  },
  {
   "cell_type": "code",
   "execution_count": 54,
   "metadata": {},
   "outputs": [
    {
     "name": "stdout",
     "output_type": "stream",
     "text": [
      "5\n",
      "5\n",
      "1\n",
      "2\n",
      "4\n",
      "2\n",
      "6\n"
     ]
    }
   ],
   "source": [
    "ll=linkedList()\n",
    "e=Element(5)\n",
    "ll.append(e)\n",
    "e=Element(5)\n",
    "ll.append(e)\n",
    "e=Element(1)\n",
    "ll.append(e)\n",
    "e=Element(2)\n",
    "ll.append(e)\n",
    "f=Element(3)\n",
    "ll.append(f)\n",
    "e=Element(4)\n",
    "ll.append(e)\n",
    "e=Element(2)\n",
    "ll.append(e)\n",
    "e=Element(6)\n",
    "ll.append(e)\n",
    "\n",
    "removeMiddle(f)\n",
    "ll.printList()"
   ]
  },
  {
   "cell_type": "markdown",
   "metadata": {},
   "source": [
    "### 2.4 Partition\n",
    "##### Write code to partition a linked list around a value x, such that all nodes less than x come before all nodes greater than or equal to x. If x is contained within the list, the values of x only need to be after the elements less than x."
   ]
  },
  {
   "cell_type": "code",
   "execution_count": 55,
   "metadata": {},
   "outputs": [],
   "source": [
    "def partition(ll,x):\n",
    "    c=1\n",
    "    while c>0:\n",
    "        c=0\n",
    "        current=ll.head\n",
    "        while current.next:\n",
    "            if current.value>=x and current.next.value<x:\n",
    "                c+=1\n",
    "                current.value,current.next.value=current.next.value,current.value\n",
    "            current=current.next\n",
    "    pass"
   ]
  },
  {
   "cell_type": "code",
   "execution_count": 56,
   "metadata": {},
   "outputs": [
    {
     "name": "stdout",
     "output_type": "stream",
     "text": [
      "Final: \n",
      "1\n",
      "2\n",
      "3\n",
      "2\n",
      "5\n",
      "5\n",
      "4\n",
      "6\n"
     ]
    }
   ],
   "source": [
    "ll=linkedList()\n",
    "e=Element(5)\n",
    "ll.append(e)\n",
    "e=Element(5)\n",
    "ll.append(e)\n",
    "e=Element(1)\n",
    "ll.append(e)\n",
    "e=Element(2)\n",
    "ll.append(e)\n",
    "f=Element(3)\n",
    "ll.append(f)\n",
    "e=Element(4)\n",
    "ll.append(e)\n",
    "e=Element(2)\n",
    "ll.append(e)\n",
    "e=Element(6)\n",
    "ll.append(e)\n",
    "\n",
    "partition(ll,4)\n",
    "print(\"Final: \")\n",
    "ll.printList()"
   ]
  },
  {
   "cell_type": "markdown",
   "metadata": {},
   "source": [
    "### 2.5 Sum Lists\n",
    "##### You have two numbers represented by a linked list, where each node contains a single digit. The digits are stored in reverse order, such that the 1' digit is at the head of the list. Write a function that adds the two numbers and returns the sum as a linked list."
   ]
  },
  {
   "cell_type": "code",
   "execution_count": 57,
   "metadata": {},
   "outputs": [],
   "source": [
    "def sumLists(list_a,list_b):\n",
    "    r=0 #rollover \n",
    "    a=0 #boolean if a is done\n",
    "    b=0 #boolearn if b is done\n",
    "    sumList=linkedList()\n",
    "    a_current=list_a.head\n",
    "    b_current=list_b.head\n",
    "    while a==0 and b==0:\n",
    "        digit=r+a_current.value+b_current.value\n",
    "        r=digit//10\n",
    "        digit=digit%10\n",
    "        e=Element(digit)\n",
    "        sumList.append(e)\n",
    "        if a_current.next:\n",
    "            a_current=a_current.next\n",
    "        else:\n",
    "            a=1\n",
    "        if b_current.next:\n",
    "            b_current=b_current.next\n",
    "        else:\n",
    "            b=1\n",
    "    if a==0:\n",
    "        e=Element(r+a_current.value)\n",
    "        sumList.append(e)\n",
    "    elif b==0:\n",
    "        e=Element(r+b_current.value)\n",
    "        sumList.append(e)\n",
    "    return sumList\n",
    "    \n",
    "        \n",
    "   \n",
    "    "
   ]
  },
  {
   "cell_type": "code",
   "execution_count": 58,
   "metadata": {},
   "outputs": [
    {
     "name": "stdout",
     "output_type": "stream",
     "text": [
      "List a: \n",
      "8\n",
      "3\n",
      "7\n",
      "List b: \n",
      "5\n",
      "9\n",
      "2\n",
      "2\n",
      "Sum of lists: \n",
      "3\n",
      "3\n",
      "0\n",
      "3\n"
     ]
    }
   ],
   "source": [
    "list_a=linkedList()\n",
    "e=Element(8)\n",
    "list_a.append(e)\n",
    "e=Element(3)\n",
    "list_a.append(e)\n",
    "e=Element(7)\n",
    "list_a.append(e)\n",
    "list_b=linkedList()\n",
    "e=Element(5)\n",
    "list_b.append(e)\n",
    "e=Element(9)\n",
    "list_b.append(e)\n",
    "e=Element(2)\n",
    "list_b.append(e)\n",
    "e=Element(2)\n",
    "list_b.append(e)\n",
    "\n",
    "print(\"List a: \")\n",
    "list_a.printList()\n",
    "print(\"List b: \")\n",
    "list_b.printList()\n",
    "\n",
    "print(\"Sum of lists: \")\n",
    "added=sumLists(list_a,list_b)\n",
    "added.printList()"
   ]
  },
  {
   "cell_type": "markdown",
   "metadata": {},
   "source": [
    "### 2.6 Palindrome\n",
    "##### Implement a function to check if a linked list is a palindrome"
   ]
  },
  {
   "cell_type": "code",
   "execution_count": 59,
   "metadata": {},
   "outputs": [],
   "source": [
    "def palindromeList(llist):\n",
    "    current=llist.head\n",
    "    elements=[]\n",
    "    n=1\n",
    "    elements.append(current.value)\n",
    "    while current.next:\n",
    "        n+=1\n",
    "        elements.append(current.next.value)\n",
    "        current=current.next\n",
    "    for i in range(int(n/2)):\n",
    "        if elements[i]!=elements[n-i-1]:\n",
    "            return False\n",
    "    return True"
   ]
  },
  {
   "cell_type": "code",
   "execution_count": 60,
   "metadata": {},
   "outputs": [
    {
     "name": "stdout",
     "output_type": "stream",
     "text": [
      "True\n"
     ]
    }
   ],
   "source": [
    "llist=linkedList()\n",
    "a=Element(\"a\")\n",
    "b=Element(\"b\")\n",
    "c=Element(\"b\")\n",
    "d=Element(\"a\")\n",
    "#e=Element(\"c\")\n",
    "llist.append(a)\n",
    "llist.append(b)\n",
    "llist.append(c)\n",
    "llist.append(d)\n",
    "#llist.append(e)\n",
    "\n",
    "print(palindromeList(llist))\n"
   ]
  },
  {
   "cell_type": "markdown",
   "metadata": {},
   "source": [
    "### 2.7 Intersection\n",
    "##### Given two (singly) linked lists, determine if the two lists intersect. Return the intersecting node. Note that the intersection is defined based on reference, not a value. That is, if the kth node of the first linked list is the exact same node (by reference as the jth node of the second linked list, then they are intersecting)."
   ]
  },
  {
   "cell_type": "code",
   "execution_count": 61,
   "metadata": {},
   "outputs": [],
   "source": [
    "def intersection(list_a,list_b):\n",
    "    a=list_a.head\n",
    "    nodes=[a.value]\n",
    "    while a.next:\n",
    "        nodes.append(a.next.value)\n",
    "        a=a.next\n",
    "    b=list_b.head\n",
    "    for i in range(len(nodes)):\n",
    "        if b.value==nodes[i]:\n",
    "            return b\n",
    "    while b.next:\n",
    "        for i in range(len(nodes)):\n",
    "            if b.next.value==nodes[i]:\n",
    "                return b.next\n",
    "        b=b.next\n",
    "    pass"
   ]
  },
  {
   "cell_type": "code",
   "execution_count": 62,
   "metadata": {},
   "outputs": [
    {
     "name": "stdout",
     "output_type": "stream",
     "text": [
      "c\n"
     ]
    }
   ],
   "source": [
    "a=Element(\"a\")\n",
    "b=Element(\"b\")\n",
    "c=Element(\"c\")\n",
    "d=Element(\"d\")\n",
    "e=Element(\"e\")\n",
    "f=Element(\"f\")\n",
    "g=Element(\"g\")\n",
    "\n",
    "list_a=linkedList()\n",
    "list_a.append(a)\n",
    "list_a.append(b)\n",
    "list_a.append(c)\n",
    "list_a.append(d)\n",
    "list_a.append(e)\n",
    "list_a.append(f)\n",
    "list_a.append(g)\n",
    "\n",
    "\n",
    "\n",
    "list_b=linkedList()\n",
    "c=Element(\"c\")\n",
    "d=Element(\"d\")\n",
    "e=Element(\"e\")\n",
    "list_b.append(c)\n",
    "list_b.append(d)\n",
    "list_b.append(e)\n",
    "\n",
    "\n",
    "node=intersection(list_a,list_b)\n",
    "print(node.value)"
   ]
  },
  {
   "cell_type": "markdown",
   "metadata": {},
   "source": [
    "### 2.8 Loop Detection\n",
    "##### Given a circular linked list, implement an algorithm that returns the node at the beginning of the loop."
   ]
  },
  {
   "cell_type": "code",
   "execution_count": 63,
   "metadata": {},
   "outputs": [],
   "source": [
    "def loopDetect(llist):\n",
    "    a=llist.head\n",
    "    nodes=[a]\n",
    "    while a.next:\n",
    "        for i in range(len(nodes)):\n",
    "            if a.next==nodes[i]:\n",
    "                return a.next\n",
    "        nodes.append(a.next)\n",
    "        a=a.next"
   ]
  },
  {
   "cell_type": "code",
   "execution_count": 64,
   "metadata": {},
   "outputs": [
    {
     "name": "stdout",
     "output_type": "stream",
     "text": [
      "e\n"
     ]
    }
   ],
   "source": [
    "a=Element(\"a\")\n",
    "b=Element(\"b\")\n",
    "c=Element(\"c\")\n",
    "d=Element(\"d\")\n",
    "e=Element(\"e\")\n",
    "f=Element(\"f\")\n",
    "g=Element(\"g\")\n",
    "g.next=e\n",
    "llist=linkedList()\n",
    "llist.append(a)\n",
    "llist.append(b)\n",
    "llist.append(c)\n",
    "llist.append(d)\n",
    "llist.append(e)\n",
    "llist.append(f)\n",
    "llist.append(g)\n",
    "\n",
    "\n",
    "node = loopDetect(llist)\n",
    "print(node.value)"
   ]
  },
  {
   "cell_type": "markdown",
   "metadata": {},
   "source": [
    "# Section 3: Stacks and Queues"
   ]
  },
  {
   "cell_type": "markdown",
   "metadata": {},
   "source": [
    "### 3.1 Three in One\n",
    "##### Describe how you could use a single array to implement three stacks."
   ]
  },
  {
   "cell_type": "markdown",
   "metadata": {},
   "source": [
    "For a 1D array, reserve the first third for stack 1, middle third for stack 2, and last third for stack 3. Keep track of 3 variables indicating the top index of the top of each stack.\n",
    "\n",
    "The same could work with a 2D array."
   ]
  },
  {
   "cell_type": "markdown",
   "metadata": {},
   "source": [
    "### 3.2 Stack Min\n",
    "##### How would you design a stack which, in addition to push and pop has a function min which returns the minimum element?"
   ]
  },
  {
   "cell_type": "markdown",
   "metadata": {},
   "source": [
    "Keep track of the minimum element as a property of the stack class. Every element added should be compared to the current min, and min should be replaced if the new element is less than the current min."
   ]
  },
  {
   "cell_type": "code",
   "execution_count": 65,
   "metadata": {},
   "outputs": [],
   "source": [
    "class stack(object):\n",
    "    def __init__(self):\n",
    "        self.min=1000000\n",
    "        self.values=[]\n",
    "        \n",
    "    def push(self,value):\n",
    "        if value<self.min:\n",
    "            self.min=value\n",
    "        self.values.append(value)"
   ]
  },
  {
   "cell_type": "markdown",
   "metadata": {},
   "source": [
    "### 3.3 Stack of Plates\n",
    "##### Imagine a (literal) stack of plates. If the stack gets too tall, the plates fall. Therefore, in real ife, we would likely start a new stack when the previous stack exceeds a threshold. Implement a data structure SetOfStacks that mimics this. Should create a new stack once the previous once exceeds a threshold.\n",
    "\n",
    "##### Implement a function popAt(index) whic performs a pop operation on a specific substack. "
   ]
  },
  {
   "cell_type": "code",
   "execution_count": 66,
   "metadata": {},
   "outputs": [],
   "source": [
    "class stack(object):\n",
    "    def __init__(self,threshold):\n",
    "        self.values=[]\n",
    "        self.n=-1\n",
    "        self.threshold=threshold\n",
    "        \n",
    "    def __init__(self):\n",
    "        self.values=[]\n",
    "        self.n=-1\n",
    "        self.threshold=20\n",
    "        \n",
    "    def push(self, value):\n",
    "        self.values.append(value)\n",
    "        self.n+=1\n",
    "        pass\n",
    "        \n",
    "    def pop(self):\n",
    "        popped=self.values[self.n]\n",
    "        self.values=self.values[0:self.n]\n",
    "        self.n-=1\n",
    "        return popped\n",
    "    \n",
    "    def isEmpty(self):\n",
    "        if self.n==-1:\n",
    "            return True\n",
    "        else:\n",
    "            return False\n",
    "        \n",
    "    def peek(self):\n",
    "        return self.values[self.n]\n",
    "        \n",
    "class SetOfStacks(object):\n",
    "    def __init__(self):\n",
    "        self.i=0\n",
    "        self.stacks=[]\n",
    "        \n",
    "    def push(self,value):\n",
    "        if self.stacks[i].self.n==self.threshold:\n",
    "            if len(self.stacks)==i:\n",
    "                self.stacks.append(stack())\n",
    "            i+=1\n",
    "        self.stacks[i].push(value)\n",
    "        \n",
    "    def pop(self):\n",
    "        if self.values[i].n<0:\n",
    "            i-=1\n",
    "        popped=self.values[i].pop()\n",
    "        return popped\n",
    "    \n",
    "    def popAt(self,index):\n",
    "        if self.stacks[i].self.n<0:\n",
    "            return None\n",
    "        else:\n",
    "            return self.stacks[i].pop()"
   ]
  },
  {
   "cell_type": "markdown",
   "metadata": {},
   "source": [
    "### 3.4 Queue via Stacks\n",
    "##### Implement a MyQueue class which implements a queue using two stacks."
   ]
  },
  {
   "cell_type": "code",
   "execution_count": 67,
   "metadata": {},
   "outputs": [],
   "source": [
    "#Added isEmpty() to previous stack class\n",
    "class MyQueue(object):\n",
    "    def __init__(self):\n",
    "        self.stack_push=stack()\n",
    "        self.stack_pop=stack()\n",
    "        \n",
    "    def push(self,value):\n",
    "        self.stack_push.push(value)\n",
    "        \n",
    "    def pop(self):\n",
    "        while stack_push.isEmpty==False:\n",
    "            self.stack_pop.push(self.stack_push.pop())\n",
    "        popped=self.stack_pop.pop()\n",
    "        while stack_pop.isEmpty==False:\n",
    "            self.stack_push.push(self.stack_pop.pop())\n",
    "        return popped"
   ]
  },
  {
   "cell_type": "markdown",
   "metadata": {},
   "source": [
    "### 3.5 Sort Stack\n",
    "##### Write a program to sort a stack such that the smallest items are on the top. You may use an additional temporary stack, but you may not copy the elements into any other data structure such as an array). The stack supports the following operations: push, pop, peek, and isEmpty(). "
   ]
  },
  {
   "cell_type": "code",
   "execution_count": 68,
   "metadata": {},
   "outputs": [],
   "source": [
    "#added peek function to previous stack class\n",
    "def sortStack(my_stack):\n",
    "    a=0\n",
    "    c=1\n",
    "    stack_from=my_stack\n",
    "    stack_to=stack()\n",
    "    while c!=0 or a==0:\n",
    "        c=0\n",
    "        a=1-a\n",
    "        temp=stack_from.pop()\n",
    "        while stack_from.isEmpty()==False:      \n",
    "            if temp>stack_from.peek()==a:\n",
    "                stack_to.push(stack_from.pop())\n",
    "                c+=1\n",
    "            else:\n",
    "                stack_to.push(temp)\n",
    "                if stack_from.isEmpty()==False:\n",
    "                    temp=stack_from.pop()\n",
    "                else:\n",
    "                    temp=None\n",
    "        if temp!=None:\n",
    "            stack_to.push(temp)\n",
    "            temp=None\n",
    "        stack_to,stack_from = stack_from,stack_to\n",
    "    my_sorted_stack=stack_to #check this\n",
    "    return my_sorted_stack"
   ]
  },
  {
   "cell_type": "markdown",
   "metadata": {},
   "source": [
    "### 3.6 Animal Shelter\n",
    "##### An animal shelter, which holds only dogs and cats, operates on a strictly \"first in, first out\" basis. People must adopt either the \"oldest\" (based on arrival time) of all animals, or they can select whether they would prefer a dog or a cat (and will receive the oldest of that type). They cannot select which specific animal they would like. Create the data structures to maintain this system and implement operations such as enqueue, dequeueAny, dequeueDog, and dequeueCat. You may use the build_in LinkedList data structure."
   ]
  },
  {
   "cell_type": "code",
   "execution_count": 69,
   "metadata": {},
   "outputs": [],
   "source": [
    "class animal(object):\n",
    "    def __init__(self,type):\n",
    "        self.type=type\n",
    "        self.next=None\n",
    "        \n",
    "class animalShelter(object):\n",
    "    def __init__(self):\n",
    "        self.head=None\n",
    "        self.cat=None\n",
    "        self.dog=None\n",
    "        \n",
    "    def enqueue(self,new_animal):\n",
    "        if self.head==None:\n",
    "            self.head=new_animal\n",
    "        else:\n",
    "            current=self.head\n",
    "            while current.next:\n",
    "                current=current.next\n",
    "            current.next=new_animal\n",
    "        if self.cat==None and new_animal.type==\"cat\":\n",
    "            self.cat=new_animal\n",
    "        elif self.dog==None and new_animal.type==\"dog\":\n",
    "            self.dog=new_animal\n",
    "        pass\n",
    "    \n",
    "    def dequeueCat(self):\n",
    "        animal=self.cat #pick the animal to adopt\n",
    "        #if cat is the oldest animal, change the pointer of the oldest animal\n",
    "        if self.head==self.cat:\n",
    "            self.head=self.head.next\n",
    "        #if not the oldest animal, make sure the next oldest animal no longer points to an adopted animal\n",
    "        else:\n",
    "            current=self.head\n",
    "            while current.next!=animal:\n",
    "                current=current.next\n",
    "            current.next=current.next.next\n",
    "        #redefine the oldest cat pointer\n",
    "        while self.cat.next.type!=\"cat\":\n",
    "            self.cat=self.cat.next\n",
    "        self.cat=self.cat.next\n",
    "        return animal\n",
    "    \n",
    "    def dequeueDog(self):\n",
    "        animal=self.dog\n",
    "        if self.head==self.dog:\n",
    "            self.head=self.head.next\n",
    "        else:\n",
    "            current=self.head\n",
    "            while current.next!=animal:\n",
    "                current=current.next\n",
    "            current.next=current.next.next\n",
    "        while self.dog.next.type!=\"dog\":\n",
    "            self.dog=self.dog.next\n",
    "        self.dog=self.dog.next\n",
    "        return animal\n",
    "    \n",
    "    def dequeueAny(self):\n",
    "        if self.head.type==\"cat\":\n",
    "            return self.dequeueCat()\n",
    "        else:\n",
    "            return self.dequeueDog()\n",
    "        \n",
    "    def showShelter(self):\n",
    "        current=self.head\n",
    "        while current.next!=None:\n",
    "            print(current.type)\n",
    "            current=current.next\n",
    "        print(current.type)\n",
    "        return\n",
    "            \n",
    "        "
   ]
  },
  {
   "cell_type": "code",
   "execution_count": 70,
   "metadata": {},
   "outputs": [
    {
     "name": "stdout",
     "output_type": "stream",
     "text": [
      "My shelter has: \n",
      "dog\n",
      "dog\n",
      "cat\n",
      "dog\n",
      "cat\n",
      "cat\n",
      "dog\n",
      "cat\n",
      "After adopting the oldest animal...it is a \n",
      "dog\n",
      "My shelter has: \n",
      "dog\n",
      "cat\n",
      "dog\n",
      "cat\n",
      "cat\n",
      "dog\n",
      "cat\n",
      "After adopting a cat...\n",
      "My shelter has: \n",
      "dog\n",
      "dog\n",
      "cat\n",
      "cat\n",
      "dog\n",
      "cat\n",
      "After adopting a dog...\n",
      "My shelter has: \n",
      "dog\n",
      "cat\n",
      "cat\n",
      "dog\n",
      "cat\n",
      "After adopting a cat...\n",
      "My shelter has: \n",
      "dog\n",
      "cat\n",
      "dog\n",
      "cat\n",
      "After adopting the oldest animal...it is a \n",
      "dog\n",
      "My shelter has: \n",
      "cat\n",
      "dog\n",
      "cat\n"
     ]
    }
   ],
   "source": [
    "this_shelter=animalShelter()\n",
    "this_shelter.enqueue(animal(\"dog\"))\n",
    "this_shelter.enqueue(animal(\"dog\"))\n",
    "this_shelter.enqueue(animal(\"cat\"))\n",
    "this_shelter.enqueue(animal(\"dog\"))\n",
    "this_shelter.enqueue(animal(\"cat\"))\n",
    "this_shelter.enqueue(animal(\"cat\"))\n",
    "this_shelter.enqueue(animal(\"dog\"))\n",
    "this_shelter.enqueue(animal(\"cat\"))\n",
    "\n",
    "print(\"My shelter has: \")\n",
    "this_shelter.showShelter()\n",
    "\n",
    "print(\"After adopting the oldest animal...it is a \")\n",
    "print(this_shelter.dequeueAny().type)\n",
    "print(\"My shelter has: \")\n",
    "this_shelter.showShelter()\n",
    "\n",
    "print(\"After adopting a cat...\")\n",
    "adopted=this_shelter.dequeueCat()\n",
    "print(\"My shelter has: \")\n",
    "this_shelter.showShelter()\n",
    "\n",
    "print(\"After adopting a dog...\")\n",
    "adopted=this_shelter.dequeueDog()\n",
    "print(\"My shelter has: \")\n",
    "this_shelter.showShelter()\n",
    "\n",
    "print(\"After adopting a cat...\")\n",
    "adopted=this_shelter.dequeueCat().type\n",
    "print(\"My shelter has: \")\n",
    "this_shelter.showShelter()\n",
    "\n",
    "print(\"After adopting the oldest animal...it is a \")\n",
    "print(this_shelter.dequeueAny().type)\n",
    "print(\"My shelter has: \")\n",
    "this_shelter.showShelter()\n"
   ]
  },
  {
   "cell_type": "markdown",
   "metadata": {},
   "source": [
    "# Section 4: Trees and Graphs"
   ]
  },
  {
   "cell_type": "code",
   "execution_count": 71,
   "metadata": {},
   "outputs": [],
   "source": [
    "#Graph and node classes using Adjacency lists\n",
    "class Node(object):\n",
    "    def __init__(self,name):\n",
    "        self.name=name\n",
    "        self.neighbors=[]\n",
    "        self.visited=False\n",
    "\n",
    "class Graph(object):\n",
    "    def __init__(self):\n",
    "        self.nodes=[]"
   ]
  },
  {
   "cell_type": "markdown",
   "metadata": {},
   "source": [
    "### 4.1 Route Between Nodes\n",
    "##### Given a directed graph, design an algorithm to find out whether there is a route between two nodes"
   ]
  },
  {
   "cell_type": "code",
   "execution_count": 72,
   "metadata": {},
   "outputs": [],
   "source": [
    "class Queue(object):\n",
    "    def __init__(self):\n",
    "        self.elements=[]\n",
    "        \n",
    "    def pop(self):\n",
    "        popped=self.elements[0]\n",
    "        self.elements=self.elements[1:]\n",
    "        return popped\n",
    "    \n",
    "    def push(self,value):\n",
    "        self.elements.append(value)\n",
    "        \n",
    "    def isEmpty(self):\n",
    "        if len(self.elements)>0:\n",
    "            return False\n",
    "        else:\n",
    "            return True"
   ]
  },
  {
   "cell_type": "code",
   "execution_count": 73,
   "metadata": {},
   "outputs": [],
   "source": [
    "#essentially a BFS that returns True/False instead of a path\n",
    "#utilizes a queue\n",
    "def areConnected(node_a,node_b):\n",
    "    nodes_to_visit=Queue()\n",
    "    nodes_to_visit.push(node_a)\n",
    "    while nodes_to_visit.isEmpty()==False:\n",
    "        current = nodes_to_visit.pop()\n",
    "        while current.visited==True:\n",
    "            if nodes_to_visit.isEmpty()==False:\n",
    "                current=nodes_to_visit.pop()\n",
    "            else:\n",
    "                return False\n",
    "        current.visited=True\n",
    "        for i in range(len(current.neighbors)):\n",
    "            if current.neighbors[i]==node_b:\n",
    "                return True\n",
    "            else:\n",
    "                nodes_to_visit.push(current.neighbors[i])\n",
    "    return False"
   ]
  },
  {
   "cell_type": "code",
   "execution_count": 74,
   "metadata": {},
   "outputs": [
    {
     "name": "stdout",
     "output_type": "stream",
     "text": [
      "True\n"
     ]
    }
   ],
   "source": [
    "a=Node(\"a\")\n",
    "b=Node(\"b\")\n",
    "c=Node(\"c\")\n",
    "d=Node(\"d\")\n",
    "e=Node(\"e\")\n",
    "f=Node(\"f\")\n",
    "g=Node(\"g\")\n",
    "h=Node(\"h\")\n",
    "i=Node(\"i\")\n",
    "j=Node(\"j\")\n",
    "k=Node(\"k\")\n",
    "a.neighbors=[b,d]\n",
    "b.neighbors=[a,c]\n",
    "c.neighbors=[b,d]\n",
    "d.neighbors=[a,c,g,h,e]\n",
    "e.neighbors=[d,f]\n",
    "f.neighbors=[e]\n",
    "g.neighbors=[d]\n",
    "h.neighbors=[d]\n",
    "i.neighbors=[g,h,f]\n",
    "\n",
    "print(areConnected(b,f))"
   ]
  },
  {
   "cell_type": "markdown",
   "metadata": {},
   "source": [
    "### 4.2 Minimal Tree\n",
    "##### Given a sorted (increasing order) array with unique integer elements, write an algorithm to create a binary search tree with minimal height."
   ]
  },
  {
   "cell_type": "code",
   "execution_count": 75,
   "metadata": {},
   "outputs": [],
   "source": [
    "class BSTnode(object):\n",
    "    def __init__(self,value):\n",
    "        self.value = value\n",
    "        self.left = None\n",
    "        self.right = None\n",
    "        \n",
    "class BSTree(object):\n",
    "    def __init__(self):\n",
    "        self.head=None\n",
    "    \n",
    "    def insert(self,node):\n",
    "        if self.head==None:\n",
    "            self.head=node\n",
    "        else:\n",
    "            current = self.head\n",
    "            inserted=False\n",
    "            while not inserted:\n",
    "                if node.value<=current.value:\n",
    "                    if current.left:\n",
    "                        current=current.left\n",
    "                    else:\n",
    "                        current.left = node\n",
    "                        inserted=True\n",
    "                elif node.value>current.value:\n",
    "                    if current.right:\n",
    "                        current=current.right\n",
    "                    else:\n",
    "                        current.right=node\n",
    "                        inserted=True\n",
    "                        "
   ]
  },
  {
   "cell_type": "code",
   "execution_count": 76,
   "metadata": {},
   "outputs": [],
   "source": [
    "def minimalTree(array):\n",
    "    n=len(array)\n",
    "    if n%2:\n",
    "        m=int(n/2)\n",
    "    else:\n",
    "        m=int(n/2)\n",
    "    print(\"m= \",m)\n",
    "    head=BSTnode(array[m])\n",
    "    if len(array[0:m])>0:\n",
    "        head.left=minimalTree(array[0:m])\n",
    "    if len(array[m+1:])>0:\n",
    "        head.right=minimalTree(array[m+1:])\n",
    "    return head"
   ]
  },
  {
   "cell_type": "code",
   "execution_count": 77,
   "metadata": {},
   "outputs": [
    {
     "name": "stdout",
     "output_type": "stream",
     "text": [
      "m=  4\n",
      "m=  2\n",
      "m=  1\n",
      "m=  0\n",
      "m=  0\n",
      "m=  2\n",
      "m=  1\n",
      "m=  0\n",
      "m=  0\n",
      "Head node =  4\n",
      "Left node =  2\n",
      "Right node =  7\n"
     ]
    }
   ],
   "source": [
    "values=[0,1,2,3,4,5,6,7,8]\n",
    "minimal_tree=minimalTree(values)\n",
    "print(\"Head node = \",minimal_tree.value)\n",
    "print(\"Left node = \",minimal_tree.left.value)\n",
    "print(\"Right node = \",minimal_tree.right.value)"
   ]
  },
  {
   "cell_type": "markdown",
   "metadata": {},
   "source": [
    "### 4.3 List of Depths\n",
    "##### Given a binary tree, design an algorithm which creates a linked list of all the nodes at each depth (e.g. if you have a tree with depth D, you'll have D linked lists."
   ]
  },
  {
   "cell_type": "code",
   "execution_count": 78,
   "metadata": {},
   "outputs": [],
   "source": [
    "def listDepths(tree):\n",
    "    N=1 #number of nodes anticipated at this depth\n",
    "    lists=[]\n",
    "    i=0 #list number (index in \"lists\")\n",
    "    nodeQ=Queue()\n",
    "    nodeQ.push(tree.head)\n",
    "    while nodeQ.isEmpty()==False:\n",
    "        leaves=0\n",
    "        lists.append(linkedList())\n",
    "        for nodes in range(N):\n",
    "            this_node=nodeQ.pop()\n",
    "            this_element=Element(this_node.value)\n",
    "            lists[i].append(this_element)\n",
    "            if this_node.left:\n",
    "                nodeQ.push(this_node.left)\n",
    "            else:\n",
    "                leaves+=1\n",
    "            if this_node.right:\n",
    "                nodeQ.push(this_node.right)\n",
    "            else:\n",
    "                leaves+=1\n",
    "        i+=1\n",
    "        N=N*2-leaves\n",
    "    return lists\n",
    "        \n",
    "        "
   ]
  },
  {
   "cell_type": "code",
   "execution_count": 91,
   "metadata": {},
   "outputs": [
    {
     "name": "stdout",
     "output_type": "stream",
     "text": [
      "5\n",
      "----------\n",
      "2\n",
      "7\n",
      "----------\n",
      "1\n",
      "4\n",
      "6\n",
      "8\n",
      "----------\n",
      "9\n",
      "----------\n"
     ]
    }
   ],
   "source": [
    "tree=BSTree()\n",
    "array=[5,2,7,1,4,6,8,9]\n",
    "for i in range(len(array)):\n",
    "    node=BSTnode(array[i])\n",
    "    tree.insert(node)\n",
    "\n",
    "depths_list=listDepths(tree)\n",
    "for i in range(len(depths_list)):\n",
    "    depths_list[i].printList()\n",
    "    print(\"----------\")"
   ]
  },
  {
   "cell_type": "markdown",
   "metadata": {},
   "source": [
    "### 4.4 Check Balanced"
   ]
  },
  {
   "cell_type": "code",
   "execution_count": 92,
   "metadata": {},
   "outputs": [],
   "source": [
    "def checkBalanced(tree):\n",
    "    current=tree.head\n",
    "    n=1\n",
    "    n_base=0\n",
    "    direction=0\n",
    "    nodeStack=stack()\n",
    "    nodeStack.push(tree.head)\n",
    "    while nodeStack.isEmpty()==False:\n",
    "        print(\"--------NEW LOOP-----------\")\n",
    "        print(\"Current node = \",current.value)\n",
    "        while current.left:\n",
    "            nodeStack.push(current)\n",
    "            current=current.left\n",
    "            print(\"Current node = \",current.value)\n",
    "            n+=1\n",
    "            print(\"n= \",n)\n",
    "        if n_base==0:\n",
    "            n_base=n\n",
    "            print(\"Set base to: \",n_base)\n",
    "        elif n!=n_base: \n",
    "            if direction==0:\n",
    "                direction=n-n_base\n",
    "                print(\"Direction set to: \",direction)\n",
    "            elif n!=n_base+direction:\n",
    "                return False\n",
    "        while not current.right:\n",
    "            current=nodeStack.pop()\n",
    "            n-=1\n",
    "            print(\"Current node: \",current.value)\n",
    "            print(\"n= \",n)\n",
    "        current=current.right\n",
    "        nodeStack.push(current)\n",
    "        n+=1\n",
    "        print(\"Current node: \",current.value)\n",
    "        print(\"n= \",n)\n",
    "    return True\n"
   ]
  },
  {
   "cell_type": "code",
   "execution_count": 93,
   "metadata": {},
   "outputs": [
    {
     "name": "stdout",
     "output_type": "stream",
     "text": [
      "--------NEW LOOP-----------\n",
      "Current node =  5\n",
      "Current node =  2\n",
      "n=  2\n",
      "Current node =  1\n",
      "n=  3\n",
      "Set base to:  3\n",
      "Current node:  2\n",
      "n=  2\n",
      "Current node:  4\n",
      "n=  3\n",
      "--------NEW LOOP-----------\n",
      "Current node =  4\n",
      "Current node:  4\n",
      "n=  2\n",
      "Current node:  5\n",
      "n=  1\n",
      "Current node:  7\n",
      "n=  2\n",
      "--------NEW LOOP-----------\n",
      "Current node =  7\n",
      "Current node =  6\n",
      "n=  3\n",
      "Current node:  7\n",
      "n=  2\n",
      "Current node:  8\n",
      "n=  3\n",
      "--------NEW LOOP-----------\n",
      "Current node =  8\n",
      "Current node:  9\n",
      "n=  4\n",
      "--------NEW LOOP-----------\n",
      "Current node =  9\n",
      "Direction set to:  1\n",
      "Current node:  9\n",
      "n=  3\n",
      "Current node:  8\n",
      "n=  2\n",
      "Current node:  9\n",
      "n=  3\n",
      "--------NEW LOOP-----------\n",
      "Current node =  9\n",
      "Current node:  9\n",
      "n=  2\n",
      "Current node:  7\n",
      "n=  1\n",
      "Current node:  8\n",
      "n=  2\n",
      "--------NEW LOOP-----------\n",
      "Current node =  8\n",
      "False\n"
     ]
    }
   ],
   "source": [
    "print(checkBalanced(tree))"
   ]
  },
  {
   "cell_type": "markdown",
   "metadata": {},
   "source": [
    "# Section 6: Math and Logic Puzzles"
   ]
  },
  {
   "cell_type": "markdown",
   "metadata": {},
   "source": [
    "### 6.1 The Heavy Pill\n",
    "##### You have 20 bottles of pills. 19 bottles have 1.0 g pills, but one has pills of weight 1.1 grams. Given a scale that provides an exact measurement, how would you find the heavy bottle? You can only use the scale once."
   ]
  },
  {
   "cell_type": "markdown",
   "metadata": {},
   "source": [
    "Take a measurement consisting of: 1 pill from bottle 1, 2 pills from bottle 2.... 20 pills from bottle 20.\n",
    "\n",
    "That will be 210 pills, or 210 grams if each pill weighed 1.0 grams. The extra weight will be from whatever pills weigh 1.1 grams. And the bottle it came from will be:\n",
    "\n",
    "Bottle # = (Weight - 210)/0.1"
   ]
  },
  {
   "cell_type": "markdown",
   "metadata": {},
   "source": [
    "### 6.2 Basketball\n",
    "##### You have a basketball hoop and someone says that you can play one of two games.\n",
    "##### Game 1: You get one shot to make the hoop.\n",
    "##### Game 2: You get 3 shots and you have to make 2 of the three shots.\n",
    "##### If p is the probability of making a particular shot, for which values of p should you pik one game or the other?"
   ]
  },
  {
   "cell_type": "markdown",
   "metadata": {},
   "source": [
    "The probability of winning game 1:\n",
    "p\n",
    "\n",
    "The probability of winning game 2 is the sum of all possible ways to make 2 shots:\n",
    "11X -> p*p*1\n",
    "1X1 -> p*1*p\n",
    "X11 -> 1*p*p\n",
    "So, the probability of winning game 2:\n",
    "3p^2\n",
    "\n",
    "When p>3p^2, game 1 is better to play. When 3p^2>p, game 2 is better to play. Let's find where they are equal.\n",
    "\n",
    "p=3p^2\n",
    "1=3p\n",
    "p=1/3\n",
    "\n",
    "So when p<1/3 we play one game, and >1/3 we play the other. Let's verify which is which. For a p=1/2:\n",
    "\n",
    "P(Game 1) = 0.5\n",
    "P(Game 2) = 3*0.5*0.5=0.75\n",
    "\n",
    "Play game 2 unless p<1/3 or 0.33"
   ]
  },
  {
   "cell_type": "markdown",
   "metadata": {},
   "source": [
    "### 6.3 Dominos\n",
    "##### There is an 8x8 chessboard in which two diagonally opposite corners have been cut out. You are given 31 dominos, and a single domino can cover exactly 2 squares. Can you use the dominos to cover the entire board? Prove you answer (by providing an example or showing why it's impossible).\n"
   ]
  },
  {
   "cell_type": "markdown",
   "metadata": {},
   "source": [
    "No. There are the correct number of spaces, but the dominos cover 2 spaces at a time, and the last domino will have to cover 2 spaces that are not adjacent to one another.\n",
    "\n",
    "In the regular 8x8 chessboard, you can lay 32 dominos by having 8 rows of 4 dominos, either horizontal or vertical. Once you cut out diagonal corners, the first and last rows have an odd number of spaces (one domino has to be facing a different direction), but the middle rows have an even number of spaces. "
   ]
  },
  {
   "cell_type": "markdown",
   "metadata": {},
   "source": [
    "### 6.4 Ants on a Triangle\n",
    "##### There are three ants on different vertices of a triangle. What is the probability of collision (between any two or all of them) if they start walking on the sides of the triangle? Assume that each ant randomly picks a direction, with either direction being equally likely to be chosed, and that they walk at the same speed.\n",
    "##### Similarly, find the probability of collision with n ants on an n-vertex polygon"
   ]
  },
  {
   "cell_type": "markdown",
   "metadata": {},
   "source": [
    "The probability of collision, P(collision), is 1-P(no collision), since the only 2 options are that 1 or more ants collide, or no ants collide. So we first need to find the probability of no collision, which is easier. The only way for no ants to collide is if they all choose to go in the same direction.\n",
    "\n",
    "0.5*0.5*0.5=0.125\n",
    "\n",
    "so P(collision)=1-0.125=0.875\n",
    "\n",
    "For an n-vertex polygon, the probability would be:\n",
    "P(collision)=1-(1/2)^n"
   ]
  },
  {
   "cell_type": "markdown",
   "metadata": {},
   "source": [
    "### 6.5 Jugs of Water\n",
    "##### You have a five-quart jug, a three-quart jug, and an unlimited supply of water (but no measuring cups). How would you come up with exactly four quarts of water? Note that the jugs are oddly shaped, such that filling up exactly \"half\" of the jug would be impossible."
   ]
  },
  {
   "cell_type": "markdown",
   "metadata": {},
   "source": [
    "Assuming that there is another vessel to put the measured water in, I would empty the 3 quart jug, and pour water into it from the 5 quart jug until it is full. Then, the remaining amount is 2 quarts. Do this twice. "
   ]
  },
  {
   "cell_type": "markdown",
   "metadata": {},
   "source": [
    "### 6.6 Blue-Eyed Island\n",
    "##### A bunch of people are living on an island, when a visitor comes with a strange order: all blue-eyed people must leave the island as soon as possible. There will be a flight out at 8:00pm every evening. Each person can see everyone else's eye color, but they do not know their own (nor is anyone allowed to tell them). Additionally, they do not know how many people have blue eyes, although they do know that at least one person does. How many days will it take the blue-eyed people to leave?"
   ]
  },
  {
   "cell_type": "markdown",
   "metadata": {},
   "source": [
    "I have to make multiple assumptions in order for this to work...\n",
    "1. The people on the island will be told once the blue-eyed people have left.\n",
    "2. The people on the island use the assumptions of behavior that I will outline and no when to leave. \n",
    "\n",
    "If only 1 person on the island has blue eyes, it is quite easy. They will only see people with non-blue eyes, but know that at least 1 person has blue eyes, and so it must be them. They will leave on the first flight\n",
    "\n",
    "If 2 people have blue eyes, they will see 1 person with blue eyes and assume that person will leave on day 1. They won't, because that person also sees 1 person with blue eyes and assumes THEY will leave on day 1. If day 2 rolls around, and the people with blue eyes know that there are still people with blue eyes on the island, they will hopefully both leave on the second day. Everyone else on the island wouldn't leave until the 3rd day under these assumptions, if on the third day it becomes known that there are still people with blue eyes on the island. \n",
    "\n",
    "Generally, people will leave the island x+1 days after day 1, where x is the number of blue eyes they see on **day 1**. People with blue eyes see (n-1) blue-eyed people, and people without blue eyes see n blue-eyed people. So, people without blue eyes would try to leave the day after all the blue-eyed people leave, which is why it's important for either the flights to stop after all blue-eyed people leave, or for everyone to be notified when all the blue-eyed people have left.\n",
    "\n",
    "The number of blue-eyed people is the number of days it will take them all to leave the island."
   ]
  },
  {
   "cell_type": "markdown",
   "metadata": {},
   "source": [
    "### 6.7 The Apocalypse\n",
    "##### In the new post-apocalyptic world, the world queen is desperately concerned about the birth rate. Therefore, she decrees that all families should ensure that they have one girl, else they face massive fines. If all families abide by this policy - that is, they continue to have children until they have one girl, at which point they immediately stop - what will the gender ratio of the new generation be? (Assume that the odds of someone having a bor or girl on any given pregnancy is equal)"
   ]
  },
  {
   "cell_type": "markdown",
   "metadata": {},
   "source": [
    "Half the population will have 1 child that is a girl, a quarter of the population will have 2 children, a boy and a girl, then an eighth with 3 children (2 boys, 1 girl), and so on.\n",
    "\n",
    "To find the gender ratio, it is essentially a weighted sum.\n",
    "\n",
    "Sum(Female ratio*fraction of population)=\n",
    "1*0.5+0.5*0.25+0.33*0.125+.....\n",
    "\n",
    "This will need to be truncated at some point, otherwise it will go on forever."
   ]
  },
  {
   "cell_type": "code",
   "execution_count": 82,
   "metadata": {},
   "outputs": [
    {
     "name": "stdout",
     "output_type": "stream",
     "text": [
      "0.6930648561507935\n"
     ]
    }
   ],
   "source": [
    "def genderRatio():\n",
    "    female_sum=0\n",
    "    diff=1\n",
    "    tolerance=0.0001\n",
    "    n=1\n",
    "    while diff>tolerance:\n",
    "        diff=(1/n)*pow(0.5,n)\n",
    "        female_sum+=diff\n",
    "        n+=1\n",
    "    print(female_sum)\n",
    "    \n",
    "genderRatio()"
   ]
  },
  {
   "cell_type": "markdown",
   "metadata": {},
   "source": [
    "### 6.8 The Egg Drop Problem\n",
    "##### There is a building of 100 floors, if an egg drops from the Nth floor or above, it will break. If it's dropped from any floor below, it will not break. You're given two eggs. Find N while minimizing the number of drops for the worst case."
   ]
  },
  {
   "cell_type": "markdown",
   "metadata": {},
   "source": [
    "Use 1 egg to drop from every 2 floors. Once you reach a floor where egg 1 breaks, drop the second egg from the floor 1 underneath it. If egg 2 breaks, N is that floor. Otherwise, N is the floor you dropped egg 1 from."
   ]
  },
  {
   "cell_type": "markdown",
   "metadata": {},
   "source": [
    "### 6.9 100 Lockers\n",
    "##### There are 100 closed lockers in a hallway. A man begins by opening all 100 lockers. Next, he closes every second locker. Then, on his third pass, he toggles every third locker (closes it if it is open or opens it if it is closed). This process continues for 100 passes, such that on each pass i, the man toggles every ith locker. After his 100th pass in the hallway, in which he toggles only locker #100, how many lockers are open?"
   ]
  },
  {
   "cell_type": "markdown",
   "metadata": {},
   "source": [
    "The number of times locker n is toggled is equal to its unique # of factors, product of primes. \n",
    "\n",
    "A locker will remain open on the 100th pass if it has an even # of prime products.\n",
    "\n",
    "Locker 2 will be open, 3 will be open, 5 will be open, 7 will be open, 8 will be open, 10 will be open...\n",
    "\n",
    "Lockers will be closed if they have an odd # of prime products, which means they are a square of a number.\n",
    "\n",
    "Number of open lockers = 100-# of squares\n",
    "\n",
    "squares = 1,4,9,16,25,36,49,64,81,100\n",
    "\n",
    "Number of open lockers = 100 - 10 = 90 open"
   ]
  },
  {
   "cell_type": "markdown",
   "metadata": {},
   "source": [
    "### 6.10 Poison\n",
    "##### You have 1000 bottles of soda, and exactly one is poisoned. You have 10 test strips which can be used to detect poison. A single drop of poison will turn the test strip positive permanently. You can put any number of drops on a test strip at once and you can reuse a test strip as many times as you'd like (as long as the results are negative). However, you can only run tests once per day and it takes seven days to return a result. How would you figure out the poisoned bottle in as few days as possible?\n",
    "##### Write code to simulate your approach"
   ]
  },
  {
   "cell_type": "markdown",
   "metadata": {},
   "source": [
    "Each time you do a test, you should use all of the test strips available. After each test you will get one positive result, so for the next test you have 1 fewer test strip to use. \n",
    "\n",
    "There are over 1000 ways to picks 1 to 10 of the numbers #1-10. So each bottle with place drops on a test strip in its own combination. Based on how many positive test strips there are and each one, this will tell you in just 7 days which bottle is poisoned.\n",
    "\n"
   ]
  }
 ],
 "metadata": {
  "kernelspec": {
   "display_name": "Python 3",
   "language": "python",
   "name": "python3"
  },
  "language_info": {
   "codemirror_mode": {
    "name": "ipython",
    "version": 3
   },
   "file_extension": ".py",
   "mimetype": "text/x-python",
   "name": "python",
   "nbconvert_exporter": "python",
   "pygments_lexer": "ipython3",
   "version": "3.7.3"
  }
 },
 "nbformat": 4,
 "nbformat_minor": 2
}
