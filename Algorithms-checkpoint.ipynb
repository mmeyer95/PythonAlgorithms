{
 "cells": [
  {
   "cell_type": "markdown",
   "metadata": {},
   "source": [
    "# Algorithms Practice\n",
    "\n",
    "This notebook is used for practicing and implementing algorithms in Python."
   ]
  },
  {
   "cell_type": "markdown",
   "metadata": {},
   "source": [
    "## Linked Lists"
   ]
  },
  {
   "cell_type": "code",
   "execution_count": 90,
   "metadata": {
    "collapsed": true
   },
   "outputs": [],
   "source": [
    "'''\n",
    "\"get_position\" returns the element at a certain position.\n",
    "The \"insert\" function will add an element to a particular\n",
    "spot in the list.\n",
    "\"delete\" will delete the first element with that\n",
    "particular value.\n",
    "'''\n",
    "\n",
    "\n",
    "class Element(object):\n",
    "    def __init__(self, value):\n",
    "        self.value = value\n",
    "        self.next = None\n",
    "        \n",
    "class LinkedList(object):\n",
    "    def __init__(self, head=None):\n",
    "        self.head = head\n",
    "        \n",
    "    def append(self, new_element):\n",
    "        current = self.head\n",
    "        if self.head:\n",
    "            while current.next:\n",
    "                current = current.next\n",
    "            current.next = new_element\n",
    "        else:\n",
    "            self.head = new_element\n",
    "            \n",
    "    def get_position(self, position):\n",
    "        #Get the value at the current position\n",
    "        i=1\n",
    "        current = self.head\n",
    "        while current.next and i<position:\n",
    "            current = current.next\n",
    "            i+=1\n",
    "        if i==position:\n",
    "            return current\n",
    "        #else:\n",
    "         #   return None\n",
    "    \n",
    "    def insert(self, new_element, position):\n",
    "        #Inserts a new node at the given position.\n",
    "        #Assumes the first position[head] is \"1\".\"\"\"\n",
    "        i=1\n",
    "        current = self.head\n",
    "        while i<(position-1):\n",
    "            current = current.next\n",
    "            i+=1\n",
    "        if current.next:\n",
    "            new_element.next = current.next  #new element points ahead if there is an element\n",
    "        current.next = new_element #node before points to new element\n",
    "        pass\n",
    "    \n",
    "    \n",
    "    def delete(self, value):\n",
    "        #Deletes the first node with a given value.\n",
    "        current = self.head\n",
    "        if current.value == value:\n",
    "            self.head = current.next\n",
    "        else:\n",
    "            while current.next.value!=value:\n",
    "                current = current.next\n",
    "            current.next = current.next.next\n",
    "        pass"
   ]
  },
  {
   "cell_type": "code",
   "execution_count": 96,
   "metadata": {
    "collapsed": true
   },
   "outputs": [],
   "source": [
    "# Test cases\n",
    "# Set up some Elements\n",
    "e1 = Element(1)\n",
    "e2 = Element(2)\n",
    "e3 = Element(3)\n",
    "e4 = Element(4)\n",
    "\n",
    "# Start setting up a LinkedList\n",
    "ll = LinkedList(e1)\n",
    "ll.append(e2)\n",
    "ll.append(e3)"
   ]
  },
  {
   "cell_type": "code",
   "execution_count": 97,
   "metadata": {},
   "outputs": [
    {
     "name": "stdout",
     "output_type": "stream",
     "text": [
      "3\n",
      "3\n"
     ]
    }
   ],
   "source": [
    "# Test get_position\n",
    "# Should print 3\n",
    "print(ll.head.next.next.value)\n",
    "# Should also print 3\n",
    "print(ll.get_position(3).value)"
   ]
  },
  {
   "cell_type": "code",
   "execution_count": 98,
   "metadata": {},
   "outputs": [
    {
     "name": "stdout",
     "output_type": "stream",
     "text": [
      "Previous element: \n",
      "2\n",
      "Inserting element: \n",
      "4\n",
      "Following element: \n",
      "3\n",
      "4\n",
      "3\n"
     ]
    }
   ],
   "source": [
    "# Test insert\n",
    "ll.insert(e4,3)\n",
    "# Should print 4 now\n",
    "print(ll.get_position(3).value)\n",
    "#Test\n",
    "print(ll.get_position(4).value)"
   ]
  },
  {
   "cell_type": "code",
   "execution_count": 99,
   "metadata": {},
   "outputs": [
    {
     "name": "stdout",
     "output_type": "stream",
     "text": [
      "2\n",
      "4\n",
      "3\n"
     ]
    }
   ],
   "source": [
    "# Test delete\n",
    "ll.delete(1)\n",
    "# Should print 2 now\n",
    "print(ll.get_position(1).value)\n",
    "# Should print 4 now\n",
    "print(ll.get_position(2).value)\n",
    "# Should print 3 now\n",
    "print(ll.get_position(3).value)"
   ]
  },
  {
   "cell_type": "markdown",
   "metadata": {},
   "source": [
    "## Stacks\n",
    "Last in, first out"
   ]
  },
  {
   "cell_type": "code",
   "execution_count": 133,
   "metadata": {
    "collapsed": true
   },
   "outputs": [],
   "source": [
    "class Element(object):\n",
    "    def __init__(self, value):\n",
    "        self.value = value\n",
    "        self.next = None\n",
    "        \n",
    "class LinkedList(object):\n",
    "    def __init__(self, head=None):\n",
    "        self.head = head\n",
    "        \n",
    "    def append(self, new_element):\n",
    "        current = self.head\n",
    "        if self.head:\n",
    "            while current.next:\n",
    "                current = current.next\n",
    "            current.next = new_element\n",
    "        else:\n",
    "            self.head = new_element\n",
    "\n",
    "    def insert_first(self, new_element):\n",
    "        \"Insert new element as the head of the LinkedList\"\n",
    "        new_element.next = self.head\n",
    "        self.head = new_element\n",
    "        pass\n",
    "\n",
    "    def delete_first(self):\n",
    "        \"Delete the first (head) element in the LinkedList and return it\"\n",
    "        if self.head:\n",
    "            deleted = self.head\n",
    "            if self.head.next:\n",
    "                self.head = self.head.next\n",
    "            else:\n",
    "                self.head = None\n",
    "        else:\n",
    "            deleted = None\n",
    "        return deleted\n",
    "\n",
    "class Stack(object):\n",
    "    def __init__(self,top=None):\n",
    "        self.ll = LinkedList(top)\n",
    "\n",
    "    def push(self, new_element):\n",
    "        self.ll.insert_first(new_element)\n",
    "        pass\n",
    "\n",
    "    def pop(self):\n",
    "        \"Pop (remove) the first element off the top of the stack and return it\"\n",
    "        popped = self.ll.delete_first()\n",
    "        return popped\n",
    "    \n"
   ]
  },
  {
   "cell_type": "code",
   "execution_count": 134,
   "metadata": {},
   "outputs": [
    {
     "name": "stdout",
     "output_type": "stream",
     "text": [
      "3\n",
      "2\n",
      "1\n",
      "None\n",
      "4\n"
     ]
    }
   ],
   "source": [
    "# Test cases\n",
    "# Set up some Elements\n",
    "e1 = Element(1)\n",
    "e2 = Element(2)\n",
    "e3 = Element(3)\n",
    "e4 = Element(4)\n",
    "\n",
    "# Start setting up a Stack\n",
    "stack = Stack(e1)\n",
    "\n",
    "# Test stack functionality\n",
    "stack.push(e2)\n",
    "stack.push(e3)\n",
    "print(stack.pop().value)\n",
    "print(stack.pop().value)\n",
    "print(stack.pop().value)\n",
    "print(stack.pop())\n",
    "stack.push(e4)\n",
    "print(stack.pop().value)"
   ]
  },
  {
   "cell_type": "markdown",
   "metadata": {},
   "source": [
    "# Queues\n",
    "First in, first out\n",
    "\n",
    "Priority queue: assign a priority, highest priority gets taken out first"
   ]
  },
  {
   "cell_type": "code",
   "execution_count": null,
   "metadata": {
    "collapsed": true
   },
   "outputs": [],
   "source": [
    "class Element(object):\n",
    "    def __init__(self, value):\n",
    "        self.value = value\n",
    "        self.next = None\n",
    "        self.weight = 0"
   ]
  },
  {
   "cell_type": "code",
   "execution_count": 6,
   "metadata": {},
   "outputs": [
    {
     "name": "stdout",
     "output_type": "stream",
     "text": [
      "1\n",
      "1\n",
      "2\n",
      "3\n",
      "4\n",
      "5\n"
     ]
    }
   ],
   "source": [
    "\"\"\"Queue class using a list!\"\"\"\n",
    "\n",
    "class Queue:\n",
    "    def __init__(self, head=None):\n",
    "        self.storage = [head]\n",
    "\n",
    "    def enqueue(self, new_element):\n",
    "        self.storage.append(new_element)\n",
    "        pass\n",
    "\n",
    "    def peek(self):\n",
    "        return self.storage[0]\n",
    "\n",
    "    def dequeue(self):\n",
    "        dequeue = self.storage[0]\n",
    "        self.storage = self.storage[1:len(self.storage)]\n",
    "        return dequeue\n",
    "    \n",
    "# Setup\n",
    "q = Queue(1)\n",
    "q.enqueue(2)\n",
    "q.enqueue(3)\n",
    "\n",
    "# Test peek\n",
    "# Should be 1\n",
    "print(q.peek())\n",
    "\n",
    "# Test dequeue\n",
    "# Should be 1\n",
    "print(q.dequeue())\n",
    "\n",
    "# Test enqueue\n",
    "q.enqueue(4)\n",
    "# Should be 2\n",
    "print(q.dequeue())\n",
    "# Should be 3\n",
    "print (q.dequeue())\n",
    "# Should be 4\n",
    "print (q.dequeue())\n",
    "q.enqueue(5)\n",
    "# Should be 5\n",
    "print(q.peek())"
   ]
  },
  {
   "cell_type": "markdown",
   "metadata": {},
   "source": [
    "# Binary Search"
   ]
  },
  {
   "cell_type": "code",
   "execution_count": 22,
   "metadata": {
    "collapsed": true
   },
   "outputs": [],
   "source": [
    "\"\"\"The function takes two inputs:\n",
    "a Python list to search through, and the value\n",
    "you're searching for.\n",
    "Assumes the list only has distinct elements,\n",
    "meaning there are no repeated values, and \n",
    "elements are in a strictly increasing order.\n",
    "Returns the index of value, or -1 if the value\n",
    "doesn't exist in the list.\"\"\"\n",
    "\n",
    "def binary_search(input_array, value):\n",
    "    index = -1\n",
    "    comp_index = int((len(input_array))/2)\n",
    "    min_index = 0\n",
    "    max_index = len(input_array)-1\n",
    "    while ((max_index-min_index)>1):\n",
    "        if (value > input_array[comp_index]):\n",
    "            min_index = comp_index\n",
    "        elif (value < input_array[comp_index]):\n",
    "            max_index = comp_index\n",
    "        elif (value == input_array[comp_index]):\n",
    "            index = comp_index\n",
    "            break\n",
    "        comp_index = int((max_index - min_index)/2+min_index)\n",
    "    if (input_array[min_index]==value):\n",
    "        index=min_index\n",
    "    elif(input_array[max_index]==value):\n",
    "        index=max_index\n",
    "    return index"
   ]
  },
  {
   "cell_type": "code",
   "execution_count": 23,
   "metadata": {},
   "outputs": [
    {
     "name": "stdout",
     "output_type": "stream",
     "text": [
      "-1\n",
      "4\n",
      "8\n",
      "16\n",
      "0\n",
      "4\n",
      "11\n",
      "-1\n"
     ]
    }
   ],
   "source": [
    "test_list = [1,3,9,11,15,19,29]\n",
    "test_val1 = 25\n",
    "test_val2 = 15\n",
    "print(binary_search(test_list, test_val1))\n",
    "print(binary_search(test_list, test_val2))\n",
    "\n",
    "test_list2 = [1,2,6,7,8,14,15,22,36,41,42,43,50,57,58,59,60]\n",
    "print(binary_search(test_list2,36))\n",
    "print(binary_search(test_list2,60))\n",
    "print(binary_search(test_list2,1))\n",
    "print(binary_search(test_list2,8))\n",
    "print(binary_search(test_list2,43))\n",
    "print(binary_search(test_list2,5))"
   ]
  },
  {
   "cell_type": "markdown",
   "metadata": {},
   "source": [
    "# Recursion\n",
    "Using fibonacci sequence"
   ]
  },
  {
   "cell_type": "code",
   "execution_count": 47,
   "metadata": {},
   "outputs": [
    {
     "name": "stdout",
     "output_type": "stream",
     "text": [
      "0\n",
      "1\n",
      "1\n",
      "2\n",
      "3\n",
      "5\n",
      "8\n",
      "13\n",
      "21\n",
      "34\n",
      "55\n",
      "89\n"
     ]
    }
   ],
   "source": [
    "def get_fib(position):\n",
    "    if (position<1):\n",
    "        return 0\n",
    "    elif (position<=2):\n",
    "        return 1\n",
    "    else:\n",
    "        return get_fib(position-1)+get_fib(position-2)\n",
    "\n",
    "# Test cases\n",
    "print(get_fib(0))\n",
    "print(get_fib(1))\n",
    "print(get_fib(2))\n",
    "print(get_fib(3))\n",
    "print(get_fib(4))\n",
    "print(get_fib(5))\n",
    "print(get_fib(6))\n",
    "print(get_fib(7))\n",
    "print(get_fib(8))\n",
    "print(get_fib(9))\n",
    "print(get_fib(10))\n",
    "print(get_fib(11))"
   ]
  },
  {
   "cell_type": "markdown",
   "metadata": {},
   "source": [
    "# Bubble Sort"
   ]
  },
  {
   "cell_type": "code",
   "execution_count": 43,
   "metadata": {},
   "outputs": [
    {
     "name": "stdout",
     "output_type": "stream",
     "text": [
      "[1, 3, 4, 6, 9, 14, 20, 21, 21, 25]\n"
     ]
    }
   ],
   "source": [
    "\"\"\"Bubble sort in Python.\n",
    "Input is a list.\n",
    "Output is a sorted list.\"\"\"\n",
    "\n",
    "def bubblesort(array):\n",
    "    sorted = False\n",
    "    while (not sorted):\n",
    "        correct = 0\n",
    "        for i in range (1,len(array)):\n",
    "            temp = array[i-1]\n",
    "            if (array[i]<temp):\n",
    "                array[i-1]=array[i]\n",
    "                array[i]=temp\n",
    "            else:\n",
    "                correct+=1\n",
    "            i+=1\n",
    "        if (correct == len(array)-1): # the number of correct comparison will be # elements - 1\n",
    "            sorted = True\n",
    "    return array\n",
    "\n",
    "test = [21, 4, 1, 3, 9, 20, 25, 6, 21, 14]\n",
    "print(bubblesort(test))"
   ]
  },
  {
   "cell_type": "markdown",
   "metadata": {},
   "source": [
    "# Merge Sort"
   ]
  },
  {
   "cell_type": "code",
   "execution_count": 101,
   "metadata": {},
   "outputs": [
    {
     "name": "stdout",
     "output_type": "stream",
     "text": [
      "[1, 3, 4, 6, 9, 14, 20, 21, 21, 25]\n",
      "[2, 4, 5, 9, 13, 18, 20, 21, 33, 45, 72, 80]\n"
     ]
    }
   ],
   "source": [
    "import numpy\n",
    "def merge(array, start, middle, end):\n",
    "    left = array[start:middle]\n",
    "    right = array[middle:end]\n",
    "    n=start\n",
    "    l=0\n",
    "    r=0\n",
    "    while (n<end):\n",
    "        if (l<len(left) and r<len(right)):\n",
    "            if(left[l]<right[r]):\n",
    "                array[n]=left[l]\n",
    "                l+=1\n",
    "            else:\n",
    "                array[n]=right[r]\n",
    "                r+=1\n",
    "        elif (l<len(left)):\n",
    "            array[n]=left[l]\n",
    "            l+=1\n",
    "        else:\n",
    "            array[n]=right[r]\n",
    "            r+=1\n",
    "        n+=1\n",
    "    return\n",
    "\n",
    "def mergesort(array, start, end):\n",
    "    if (start<end-1):\n",
    "        middle = int((end-start)/2)+start\n",
    "        mergesort(array, start, middle)\n",
    "        mergesort(array, middle, end)\n",
    "        merge(array, start, middle, end)\n",
    "    return array\n",
    "\n",
    "test = [21, 4, 1, 3, 9, 20, 25, 6, 21, 14]\n",
    "print(mergesort(test,0,len(test)))\n",
    "\n",
    "test = [18, 4, 21, 9, 80, 72, 45, 33, 2, 20, 13, 5]\n",
    "print(mergesort(test,0,len(test)))"
   ]
  },
  {
   "cell_type": "markdown",
   "metadata": {},
   "source": [
    "# Quick Sort"
   ]
  },
  {
   "cell_type": "code",
   "execution_count": 45,
   "metadata": {},
   "outputs": [
    {
     "name": "stdout",
     "output_type": "stream",
     "text": [
      "[  1.   3.   4.   6.   9.  14.  20.  21.  21.  25.]\n",
      "[  1.   2.   3.   5.   6.   7.   9.  11.  12.  25.  42.]\n"
     ]
    }
   ],
   "source": [
    "\"\"\"Quick sort in Python.\n",
    "Input is a list.\n",
    "Output is a sorted list.\"\"\"\n",
    "import numpy as np\n",
    "def quicksort(array):\n",
    "    if (len(array)<2):\n",
    "        return array\n",
    "    pivot = array[0]\n",
    "    piv_index = 0\n",
    "    left_index= 1\n",
    "    right_index = len(array)-1\n",
    "    while (left_index<=right_index):\n",
    "        if (array[left_index]>pivot):\n",
    "            array[left_index],array[right_index]=array[right_index],array[left_index]\n",
    "            right_index-=1\n",
    "        else:\n",
    "            left_index+=1\n",
    "    array=np.concatenate((quicksort(array[1:right_index+1]),np.array([pivot]),quicksort(array[right_index+1:len(array)])))\n",
    "    return array\n",
    "\n",
    "test = [21, 4, 1, 3, 9, 20, 25, 6, 21, 14]\n",
    "print(quicksort(test))\n",
    "\n",
    "test= [5,2,12,25,3,7,9,11,42,1,6]\n",
    "print(quicksort(test))"
   ]
  },
  {
   "cell_type": "markdown",
   "metadata": {
    "collapsed": true
   },
   "source": [
    "# Dictionaries"
   ]
  },
  {
   "cell_type": "code",
   "execution_count": 8,
   "metadata": {},
   "outputs": [
    {
     "name": "stdout",
     "output_type": "stream",
     "text": [
      "1\n",
      "Atlanta\n",
      "Mountain View\n",
      "2\n",
      "Bangalore - India\n",
      "Shanghai - China\n"
     ]
    }
   ],
   "source": [
    "locations = {'North America': {'USA': ['Mountain View']}}\n",
    "\n",
    "\"\"\"Cities to add:\n",
    "Bangalore (India, Asia)\n",
    "Atlanta (USA, North America)\n",
    "Cairo (Egypt, Africa)\n",
    "Shanghai (China, Asia)\"\"\"\n",
    "\n",
    "locations['North America']['USA'].append('Atlanta')\n",
    "locations['Asia'] = {'India': ['Bangalore']}\n",
    "locations['Asia']['China'] = ['Shanghai']\n",
    "locations['Africa'] = {'Egypt': ['Cairo']}\n",
    "\n",
    "\"\"\"Print the following (using \"print\").\n",
    "1. A list of all cities in the USA in\n",
    "alphabetic order.\n",
    "2. All cities in Asia, in alphabetic\n",
    "order, next to the name of the country.\n",
    "In your output, label each answer with a number\n",
    "so it looks like this:\n",
    "1\n",
    "American City\n",
    "American City\n",
    "2\n",
    "Asian City - Country\n",
    "Asian City - Country\"\"\"\n",
    "\n",
    "print(1)\n",
    "usa_sorted = sorted(locations['North America']['USA'])\n",
    "for i in range(len(usa_sorted)):\n",
    "    print(usa_sorted[i])\n",
    "print(2)\n",
    "asia_cities = []\n",
    "for countries, cities in locations['Asia'].items():\n",
    "    city_country = cities[0] + \" - \" + countries \n",
    "    asia_cities.append(city_country)\n",
    "asia_sorted = sorted(asia_cities)\n",
    "for city in asia_sorted:\n",
    "    print(city)\n"
   ]
  },
  {
   "cell_type": "markdown",
   "metadata": {},
   "source": [
    "# Hash Maps"
   ]
  },
  {
   "cell_type": "code",
   "execution_count": 36,
   "metadata": {
    "collapsed": true
   },
   "outputs": [],
   "source": [
    "'''You can use the Python function ord() to get the ASCII value of a letter, \n",
    "and chr() to get the letter associated with an ASCII value. '''\n",
    "\n",
    "\"\"\"Write a HashTable class that stores strings\n",
    "in a hash table, where keys are calculated\n",
    "using the first two letters of the string.\"\"\"\n",
    "\n",
    "class HashTable(object):\n",
    "    def __init__(self):\n",
    "        self.table = [None]*10000\n",
    "                \n",
    "    def calculate_hash_value(self, string):\n",
    "        \"\"\"Helper function to calulate a\n",
    "        hash value from a string.\"\"\"\n",
    "        return ord(string[0])*100+ord(string[1])\n",
    "\n",
    "    def store(self, string):\n",
    "        \"\"\"Input a string that's stored in \n",
    "        the table.\"\"\"\n",
    "        location = self.calculate_hash_value(string)\n",
    "        if self.table[location]!=None:\n",
    "            self.table[location].append(string)\n",
    "        else:\n",
    "            self.table[location]=[string]\n",
    "        pass\n",
    "\n",
    "    def lookup(self, string):\n",
    "        \"\"\"Return the hash value if the\n",
    "        string is already in the table.\n",
    "        Return -1 otherwise.\"\"\"\n",
    "        place = self.calculate_hash_value(string)\n",
    "        if self.table!=None and self.table[place]!=None:\n",
    "            return place\n",
    "        return -1\n",
    "    \n",
    "\n"
   ]
  },
  {
   "cell_type": "code",
   "execution_count": 37,
   "metadata": {},
   "outputs": [
    {
     "name": "stdout",
     "output_type": "stream",
     "text": [
      "8568\n",
      "-1\n",
      "8568\n",
      "8568\n"
     ]
    }
   ],
   "source": [
    "# Setup\n",
    "hash_table = HashTable()\n",
    "\n",
    "# Test calculate_hash_value\n",
    "# Should be 8568\n",
    "print(hash_table.calculate_hash_value('UDACITY'))\n",
    "\n",
    "# Test lookup edge case\n",
    "# Should be -1\n",
    "print(hash_table.lookup('UDACITY'))\n",
    "\n",
    "# Test store\n",
    "hash_table.store('UDACITY')\n",
    "# Should be 8568\n",
    "print(hash_table.lookup('UDACITY'))\n",
    "\n",
    "# Test store edge case\n",
    "hash_table.store('UDACIOUS')\n",
    "# Should be 8568\n",
    "print(hash_table.lookup('UDACIOUS'))"
   ]
  },
  {
   "cell_type": "code",
   "execution_count": null,
   "metadata": {
    "collapsed": true
   },
   "outputs": [],
   "source": []
  }
 ],
 "metadata": {
  "kernelspec": {
   "display_name": "Python 3",
   "language": "python",
   "name": "python3"
  },
  "language_info": {
   "codemirror_mode": {
    "name": "ipython",
    "version": 3
   },
   "file_extension": ".py",
   "mimetype": "text/x-python",
   "name": "python",
   "nbconvert_exporter": "python",
   "pygments_lexer": "ipython3",
   "version": "3.6.2"
  }
 },
 "nbformat": 4,
 "nbformat_minor": 2
}
